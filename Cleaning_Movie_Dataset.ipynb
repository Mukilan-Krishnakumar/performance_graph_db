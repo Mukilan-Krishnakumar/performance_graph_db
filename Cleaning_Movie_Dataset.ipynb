{
 "cells": [
  {
   "cell_type": "markdown",
   "id": "9fac62e1",
   "metadata": {},
   "source": [
    "# Cleaning Movie Dataset\n",
    "\n",
    "Dataset downloaded from the following [link](https://www.kaggle.com/datasets/harshitshankhdhar/imdb-dataset-of-top-1000-movies-and-tv-shows). There are a ton of columns which we don't really need. I am going to clean the dataset, remove unwanted columns and save the file as `test.csv`. "
   ]
  },
  {
   "cell_type": "markdown",
   "id": "9d8a852c",
   "metadata": {},
   "source": [
    "## 1. Importing Libraries"
   ]
  },
  {
   "cell_type": "code",
   "execution_count": 1,
   "id": "9fb63f81",
   "metadata": {},
   "outputs": [],
   "source": [
    "import pandas as pd\n",
    "import numpy as np"
   ]
  },
  {
   "cell_type": "code",
   "execution_count": 2,
   "id": "a984af91",
   "metadata": {},
   "outputs": [
    {
     "name": "stdout",
     "output_type": "stream",
     "text": [
      "                                         Poster_Link  \\\n",
      "0  https://m.media-amazon.com/images/M/MV5BMDFkYT...   \n",
      "1  https://m.media-amazon.com/images/M/MV5BM2MyNj...   \n",
      "\n",
      "               Series_Title Released_Year Certificate  Runtime         Genre  \\\n",
      "0  The Shawshank Redemption          1994           A  142 min         Drama   \n",
      "1             The Godfather          1972           A  175 min  Crime, Drama   \n",
      "\n",
      "   IMDB_Rating                                           Overview  Meta_score  \\\n",
      "0          9.3  Two imprisoned men bond over a number of years...        80.0   \n",
      "1          9.2  An organized crime dynasty's aging patriarch t...       100.0   \n",
      "\n",
      "               Director          Star1           Star2       Star3  \\\n",
      "0        Frank Darabont    Tim Robbins  Morgan Freeman  Bob Gunton   \n",
      "1  Francis Ford Coppola  Marlon Brando       Al Pacino  James Caan   \n",
      "\n",
      "            Star4  No_of_Votes        Gross  \n",
      "0  William Sadler      2343110   28,341,469  \n",
      "1    Diane Keaton      1620367  134,966,411  \n"
     ]
    }
   ],
   "source": [
    "movie_df = pd.read_csv(\"data/imdb_top_1000.csv\")\n",
    "print(movie_df.head(2))"
   ]
  },
  {
   "cell_type": "code",
   "execution_count": 3,
   "id": "46c6217c",
   "metadata": {},
   "outputs": [
    {
     "data": {
      "text/plain": [
       "Poster_Link       object\n",
       "Series_Title      object\n",
       "Released_Year     object\n",
       "Certificate       object\n",
       "Runtime           object\n",
       "Genre             object\n",
       "IMDB_Rating      float64\n",
       "Overview          object\n",
       "Meta_score       float64\n",
       "Director          object\n",
       "Star1             object\n",
       "Star2             object\n",
       "Star3             object\n",
       "Star4             object\n",
       "No_of_Votes        int64\n",
       "Gross             object\n",
       "dtype: object"
      ]
     },
     "execution_count": 3,
     "metadata": {},
     "output_type": "execute_result"
    }
   ],
   "source": [
    "# Let us now, look at the columns and decide which to keep and which to drop\n",
    "movie_df.dtypes"
   ]
  },
  {
   "cell_type": "markdown",
   "id": "5070201b",
   "metadata": {},
   "source": [
    "We need only the following columns - `Series_Title`, `Director`, `Star1`, `Star2` , `Star3` , `Star4`. We can drop everything else from the dataset. "
   ]
  },
  {
   "cell_type": "code",
   "execution_count": 4,
   "id": "65360083",
   "metadata": {},
   "outputs": [
    {
     "data": {
      "text/html": [
       "<div>\n",
       "<style scoped>\n",
       "    .dataframe tbody tr th:only-of-type {\n",
       "        vertical-align: middle;\n",
       "    }\n",
       "\n",
       "    .dataframe tbody tr th {\n",
       "        vertical-align: top;\n",
       "    }\n",
       "\n",
       "    .dataframe thead th {\n",
       "        text-align: right;\n",
       "    }\n",
       "</style>\n",
       "<table border=\"1\" class=\"dataframe\">\n",
       "  <thead>\n",
       "    <tr style=\"text-align: right;\">\n",
       "      <th></th>\n",
       "      <th>Series_Title</th>\n",
       "      <th>Director</th>\n",
       "      <th>Star1</th>\n",
       "      <th>Star2</th>\n",
       "      <th>Star3</th>\n",
       "      <th>Star4</th>\n",
       "    </tr>\n",
       "  </thead>\n",
       "  <tbody>\n",
       "    <tr>\n",
       "      <th>0</th>\n",
       "      <td>The Shawshank Redemption</td>\n",
       "      <td>Frank Darabont</td>\n",
       "      <td>Tim Robbins</td>\n",
       "      <td>Morgan Freeman</td>\n",
       "      <td>Bob Gunton</td>\n",
       "      <td>William Sadler</td>\n",
       "    </tr>\n",
       "    <tr>\n",
       "      <th>1</th>\n",
       "      <td>The Godfather</td>\n",
       "      <td>Francis Ford Coppola</td>\n",
       "      <td>Marlon Brando</td>\n",
       "      <td>Al Pacino</td>\n",
       "      <td>James Caan</td>\n",
       "      <td>Diane Keaton</td>\n",
       "    </tr>\n",
       "    <tr>\n",
       "      <th>2</th>\n",
       "      <td>The Dark Knight</td>\n",
       "      <td>Christopher Nolan</td>\n",
       "      <td>Christian Bale</td>\n",
       "      <td>Heath Ledger</td>\n",
       "      <td>Aaron Eckhart</td>\n",
       "      <td>Michael Caine</td>\n",
       "    </tr>\n",
       "    <tr>\n",
       "      <th>3</th>\n",
       "      <td>The Godfather: Part II</td>\n",
       "      <td>Francis Ford Coppola</td>\n",
       "      <td>Al Pacino</td>\n",
       "      <td>Robert De Niro</td>\n",
       "      <td>Robert Duvall</td>\n",
       "      <td>Diane Keaton</td>\n",
       "    </tr>\n",
       "    <tr>\n",
       "      <th>4</th>\n",
       "      <td>12 Angry Men</td>\n",
       "      <td>Sidney Lumet</td>\n",
       "      <td>Henry Fonda</td>\n",
       "      <td>Lee J. Cobb</td>\n",
       "      <td>Martin Balsam</td>\n",
       "      <td>John Fiedler</td>\n",
       "    </tr>\n",
       "  </tbody>\n",
       "</table>\n",
       "</div>"
      ],
      "text/plain": [
       "               Series_Title              Director           Star1  \\\n",
       "0  The Shawshank Redemption        Frank Darabont     Tim Robbins   \n",
       "1             The Godfather  Francis Ford Coppola   Marlon Brando   \n",
       "2           The Dark Knight     Christopher Nolan  Christian Bale   \n",
       "3    The Godfather: Part II  Francis Ford Coppola       Al Pacino   \n",
       "4              12 Angry Men          Sidney Lumet     Henry Fonda   \n",
       "\n",
       "            Star2          Star3           Star4  \n",
       "0  Morgan Freeman     Bob Gunton  William Sadler  \n",
       "1       Al Pacino     James Caan    Diane Keaton  \n",
       "2    Heath Ledger  Aaron Eckhart   Michael Caine  \n",
       "3  Robert De Niro  Robert Duvall    Diane Keaton  \n",
       "4     Lee J. Cobb  Martin Balsam    John Fiedler  "
      ]
     },
     "execution_count": 4,
     "metadata": {},
     "output_type": "execute_result"
    }
   ],
   "source": [
    "movie_df.drop([\"Poster_Link\", \"Released_Year\", \"Certificate\", \"Runtime\", \"Genre\", \"IMDB_Rating\", \"Overview\", \"Meta_score\", \"No_of_Votes\", \"Gross\"], axis = 1, inplace = True)\n",
    "movie_df.head()"
   ]
  },
  {
   "cell_type": "markdown",
   "id": "ca53a5fa",
   "metadata": {},
   "source": [
    "I want every Star to be in a single column called `Actors`. So, I will be transforming them. "
   ]
  },
  {
   "cell_type": "code",
   "execution_count": 5,
   "id": "2b88fc88",
   "metadata": {},
   "outputs": [],
   "source": [
    "movie_df[\"Actors\"] = movie_df.apply(lambda record : [record[\"Star1\"],record[\"Star2\"],record[\"Star3\"],record[\"Star4\"]], axis = 1)"
   ]
  },
  {
   "cell_type": "code",
   "execution_count": 6,
   "id": "58f4494d",
   "metadata": {},
   "outputs": [
    {
     "data": {
      "text/html": [
       "<div>\n",
       "<style scoped>\n",
       "    .dataframe tbody tr th:only-of-type {\n",
       "        vertical-align: middle;\n",
       "    }\n",
       "\n",
       "    .dataframe tbody tr th {\n",
       "        vertical-align: top;\n",
       "    }\n",
       "\n",
       "    .dataframe thead th {\n",
       "        text-align: right;\n",
       "    }\n",
       "</style>\n",
       "<table border=\"1\" class=\"dataframe\">\n",
       "  <thead>\n",
       "    <tr style=\"text-align: right;\">\n",
       "      <th></th>\n",
       "      <th>Series_Title</th>\n",
       "      <th>Director</th>\n",
       "      <th>Star1</th>\n",
       "      <th>Star2</th>\n",
       "      <th>Star3</th>\n",
       "      <th>Star4</th>\n",
       "      <th>Actors</th>\n",
       "    </tr>\n",
       "  </thead>\n",
       "  <tbody>\n",
       "    <tr>\n",
       "      <th>0</th>\n",
       "      <td>The Shawshank Redemption</td>\n",
       "      <td>Frank Darabont</td>\n",
       "      <td>Tim Robbins</td>\n",
       "      <td>Morgan Freeman</td>\n",
       "      <td>Bob Gunton</td>\n",
       "      <td>William Sadler</td>\n",
       "      <td>[Tim Robbins, Morgan Freeman, Bob Gunton, Will...</td>\n",
       "    </tr>\n",
       "    <tr>\n",
       "      <th>1</th>\n",
       "      <td>The Godfather</td>\n",
       "      <td>Francis Ford Coppola</td>\n",
       "      <td>Marlon Brando</td>\n",
       "      <td>Al Pacino</td>\n",
       "      <td>James Caan</td>\n",
       "      <td>Diane Keaton</td>\n",
       "      <td>[Marlon Brando, Al Pacino, James Caan, Diane K...</td>\n",
       "    </tr>\n",
       "    <tr>\n",
       "      <th>2</th>\n",
       "      <td>The Dark Knight</td>\n",
       "      <td>Christopher Nolan</td>\n",
       "      <td>Christian Bale</td>\n",
       "      <td>Heath Ledger</td>\n",
       "      <td>Aaron Eckhart</td>\n",
       "      <td>Michael Caine</td>\n",
       "      <td>[Christian Bale, Heath Ledger, Aaron Eckhart, ...</td>\n",
       "    </tr>\n",
       "    <tr>\n",
       "      <th>3</th>\n",
       "      <td>The Godfather: Part II</td>\n",
       "      <td>Francis Ford Coppola</td>\n",
       "      <td>Al Pacino</td>\n",
       "      <td>Robert De Niro</td>\n",
       "      <td>Robert Duvall</td>\n",
       "      <td>Diane Keaton</td>\n",
       "      <td>[Al Pacino, Robert De Niro, Robert Duvall, Dia...</td>\n",
       "    </tr>\n",
       "    <tr>\n",
       "      <th>4</th>\n",
       "      <td>12 Angry Men</td>\n",
       "      <td>Sidney Lumet</td>\n",
       "      <td>Henry Fonda</td>\n",
       "      <td>Lee J. Cobb</td>\n",
       "      <td>Martin Balsam</td>\n",
       "      <td>John Fiedler</td>\n",
       "      <td>[Henry Fonda, Lee J. Cobb, Martin Balsam, John...</td>\n",
       "    </tr>\n",
       "  </tbody>\n",
       "</table>\n",
       "</div>"
      ],
      "text/plain": [
       "               Series_Title              Director           Star1  \\\n",
       "0  The Shawshank Redemption        Frank Darabont     Tim Robbins   \n",
       "1             The Godfather  Francis Ford Coppola   Marlon Brando   \n",
       "2           The Dark Knight     Christopher Nolan  Christian Bale   \n",
       "3    The Godfather: Part II  Francis Ford Coppola       Al Pacino   \n",
       "4              12 Angry Men          Sidney Lumet     Henry Fonda   \n",
       "\n",
       "            Star2          Star3           Star4  \\\n",
       "0  Morgan Freeman     Bob Gunton  William Sadler   \n",
       "1       Al Pacino     James Caan    Diane Keaton   \n",
       "2    Heath Ledger  Aaron Eckhart   Michael Caine   \n",
       "3  Robert De Niro  Robert Duvall    Diane Keaton   \n",
       "4     Lee J. Cobb  Martin Balsam    John Fiedler   \n",
       "\n",
       "                                              Actors  \n",
       "0  [Tim Robbins, Morgan Freeman, Bob Gunton, Will...  \n",
       "1  [Marlon Brando, Al Pacino, James Caan, Diane K...  \n",
       "2  [Christian Bale, Heath Ledger, Aaron Eckhart, ...  \n",
       "3  [Al Pacino, Robert De Niro, Robert Duvall, Dia...  \n",
       "4  [Henry Fonda, Lee J. Cobb, Martin Balsam, John...  "
      ]
     },
     "execution_count": 6,
     "metadata": {},
     "output_type": "execute_result"
    }
   ],
   "source": [
    "movie_df.head()"
   ]
  },
  {
   "cell_type": "markdown",
   "id": "84bfe88b",
   "metadata": {},
   "source": [
    "Now, we can drop the individual Star columns. "
   ]
  },
  {
   "cell_type": "code",
   "execution_count": 7,
   "id": "f6e985e5",
   "metadata": {},
   "outputs": [
    {
     "data": {
      "text/html": [
       "<div>\n",
       "<style scoped>\n",
       "    .dataframe tbody tr th:only-of-type {\n",
       "        vertical-align: middle;\n",
       "    }\n",
       "\n",
       "    .dataframe tbody tr th {\n",
       "        vertical-align: top;\n",
       "    }\n",
       "\n",
       "    .dataframe thead th {\n",
       "        text-align: right;\n",
       "    }\n",
       "</style>\n",
       "<table border=\"1\" class=\"dataframe\">\n",
       "  <thead>\n",
       "    <tr style=\"text-align: right;\">\n",
       "      <th></th>\n",
       "      <th>Series_Title</th>\n",
       "      <th>Director</th>\n",
       "      <th>Actors</th>\n",
       "    </tr>\n",
       "  </thead>\n",
       "  <tbody>\n",
       "    <tr>\n",
       "      <th>0</th>\n",
       "      <td>The Shawshank Redemption</td>\n",
       "      <td>Frank Darabont</td>\n",
       "      <td>[Tim Robbins, Morgan Freeman, Bob Gunton, Will...</td>\n",
       "    </tr>\n",
       "    <tr>\n",
       "      <th>1</th>\n",
       "      <td>The Godfather</td>\n",
       "      <td>Francis Ford Coppola</td>\n",
       "      <td>[Marlon Brando, Al Pacino, James Caan, Diane K...</td>\n",
       "    </tr>\n",
       "    <tr>\n",
       "      <th>2</th>\n",
       "      <td>The Dark Knight</td>\n",
       "      <td>Christopher Nolan</td>\n",
       "      <td>[Christian Bale, Heath Ledger, Aaron Eckhart, ...</td>\n",
       "    </tr>\n",
       "    <tr>\n",
       "      <th>3</th>\n",
       "      <td>The Godfather: Part II</td>\n",
       "      <td>Francis Ford Coppola</td>\n",
       "      <td>[Al Pacino, Robert De Niro, Robert Duvall, Dia...</td>\n",
       "    </tr>\n",
       "    <tr>\n",
       "      <th>4</th>\n",
       "      <td>12 Angry Men</td>\n",
       "      <td>Sidney Lumet</td>\n",
       "      <td>[Henry Fonda, Lee J. Cobb, Martin Balsam, John...</td>\n",
       "    </tr>\n",
       "  </tbody>\n",
       "</table>\n",
       "</div>"
      ],
      "text/plain": [
       "               Series_Title              Director  \\\n",
       "0  The Shawshank Redemption        Frank Darabont   \n",
       "1             The Godfather  Francis Ford Coppola   \n",
       "2           The Dark Knight     Christopher Nolan   \n",
       "3    The Godfather: Part II  Francis Ford Coppola   \n",
       "4              12 Angry Men          Sidney Lumet   \n",
       "\n",
       "                                              Actors  \n",
       "0  [Tim Robbins, Morgan Freeman, Bob Gunton, Will...  \n",
       "1  [Marlon Brando, Al Pacino, James Caan, Diane K...  \n",
       "2  [Christian Bale, Heath Ledger, Aaron Eckhart, ...  \n",
       "3  [Al Pacino, Robert De Niro, Robert Duvall, Dia...  \n",
       "4  [Henry Fonda, Lee J. Cobb, Martin Balsam, John...  "
      ]
     },
     "execution_count": 7,
     "metadata": {},
     "output_type": "execute_result"
    }
   ],
   "source": [
    "movie_df.drop([\"Star1\",\"Star2\",\"Star3\",\"Star4\"], axis = 1, inplace = True)\n",
    "movie_df.head()"
   ]
  },
  {
   "cell_type": "markdown",
   "id": "f219dab2",
   "metadata": {},
   "source": [
    "Let's export this to CSV and play with this dataset using Graph Database."
   ]
  },
  {
   "cell_type": "code",
   "execution_count": 8,
   "id": "c4adc9a4",
   "metadata": {},
   "outputs": [],
   "source": [
    "# I am setting index to use index as ID.\n",
    "movie_df.to_csv(\"data/test.csv\", index = True)"
   ]
  }
 ],
 "metadata": {
  "kernelspec": {
   "display_name": "Python 3 (ipykernel)",
   "language": "python",
   "name": "python3"
  },
  "language_info": {
   "codemirror_mode": {
    "name": "ipython",
    "version": 3
   },
   "file_extension": ".py",
   "mimetype": "text/x-python",
   "name": "python",
   "nbconvert_exporter": "python",
   "pygments_lexer": "ipython3",
   "version": "3.11.3"
  }
 },
 "nbformat": 4,
 "nbformat_minor": 5
}
